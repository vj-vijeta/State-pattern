{
 "cells": [
  {
   "cell_type": "code",
   "execution_count": 1,
   "metadata": {},
   "outputs": [],
   "source": [
    "import threading\n",
    "from IPython.display import display, HTML\n",
    "import time\n"
   ]
  },
  {
   "cell_type": "markdown",
   "metadata": {},
   "source": [
    " # State interface"
   ]
  },
  {
   "cell_type": "code",
   "execution_count": 2,
   "metadata": {},
   "outputs": [],
   "source": [
    "class OrderState:\n",
    "    def process(self, order):\n",
    "        pass"
   ]
  },
  {
   "cell_type": "markdown",
   "metadata": {},
   "source": [
    "# Concrete state classes"
   ]
  },
  {
   "cell_type": "code",
   "execution_count": 3,
   "metadata": {},
   "outputs": [],
   "source": [
    "class PendingState(OrderState):\n",
    "    def process(self, order):\n",
    "        print(f\"Processing order {order.id} in Pending state\")\n",
    "        # Simulate asynchronous operation\n",
    "        time.sleep(2)\n",
    "        order.set_state(ShippedState())\n"
   ]
  },
  {
   "cell_type": "code",
   "execution_count": 4,
   "metadata": {},
   "outputs": [],
   "source": [
    "class ShippedState(OrderState):\n",
    "    def process(self, order):\n",
    "        print(f\"Processing order {order.id} in Shipped state\")\n",
    "        # Simulate another asynchronous operation\n",
    "        time.sleep(2)\n",
    "        order.set_state(DeliveredState())"
   ]
  },
  {
   "cell_type": "code",
   "execution_count": 5,
   "metadata": {},
   "outputs": [],
   "source": [
    "class DeliveredState(OrderState):\n",
    "    def process(self, order):\n",
    "        print(f\"Processing order {order.id} in Delivered state\")\n"
   ]
  },
  {
   "cell_type": "markdown",
   "metadata": {},
   "source": [
    "# Context class"
   ]
  },
  {
   "cell_type": "code",
   "execution_count": 6,
   "metadata": {},
   "outputs": [],
   "source": [
    "# Context class\n",
    "class Order:\n",
    "    def __init__(self, order_id):\n",
    "        self.id = order_id\n",
    "        # Initial state is Pending\n",
    "        self.state = PendingState()\n",
    "        self.lock = threading.Lock()\n",
    "\n",
    "    # Set new state\n",
    "    def set_state(self, state):\n",
    "        with self.lock:\n",
    "            self.state = state\n",
    "\n",
    "    # Perform processing based on the current state\n",
    "    def process_order(self):\n",
    "        with self.lock:\n",
    "            self.state.process(self)\n",
    "\n",
    "\n"
   ]
  },
  {
   "cell_type": "code",
   "execution_count": 7,
   "metadata": {},
   "outputs": [],
   "source": [
    "# Function to place multiple orders concurrently\n",
    "def place_orders():\n",
    "    orders = [Order(i) for i in range(1, 6)]  # Create 5 orders\n",
    "\n",
    "    # Start processing orders concurrently\n",
    "    threads = [threading.Thread(target=order.process_order) for order in orders]\n",
    "    for thread in threads:\n",
    "        thread.start()\n",
    "\n",
    "    # Wait for all threads to finish\n",
    "    for thread in threads:\n",
    "        thread.join()"
   ]
  },
  {
   "cell_type": "markdown",
   "metadata": {},
   "source": [
    "usage"
   ]
  },
  {
   "cell_type": "code",
   "execution_count": null,
   "metadata": {},
   "outputs": [
    {
     "name": "stdout",
     "output_type": "stream",
     "text": [
      "Processing order 1 in Pending state\n",
      "Processing order 2 in Pending state\n",
      "Processing order 3 in Pending state\n",
      "Processing order 4 in Pending state\n",
      "Processing order 5 in Pending state\n"
     ]
    }
   ],
   "source": [
    "# Place multiple orders\n",
    "place_orders()"
   ]
  },
  {
   "cell_type": "code",
   "execution_count": null,
   "metadata": {},
   "outputs": [],
   "source": []
  }
 ],
 "metadata": {
  "kernelspec": {
   "display_name": "Python 3 (ipykernel)",
   "language": "python",
   "name": "python3"
  },
  "language_info": {
   "codemirror_mode": {
    "name": "ipython",
    "version": 3
   },
   "file_extension": ".py",
   "mimetype": "text/x-python",
   "name": "python",
   "nbconvert_exporter": "python",
   "pygments_lexer": "ipython3",
   "version": "3.10.11"
  }
 },
 "nbformat": 4,
 "nbformat_minor": 4
}
